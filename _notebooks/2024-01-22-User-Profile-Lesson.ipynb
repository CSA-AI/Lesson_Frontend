{
 "cells": [
  {
   "cell_type": "markdown",
   "metadata": {},
   "source": [
    "---\n",
    "toc: true\n",
    "comments: true\n",
    "layout: notebook\n",
    "title: User Profile JavaScript/HTML Lesson\n",
    "description: The College Board testing language is Pseudo Code.  Pseudo mean kind-of language that we will compare to Python.\n",
    "courses: { csp: {week: 19} }\n",
    "type: hacks\n",
    "---"
   ]
  },
  {
   "cell_type": "markdown",
   "metadata": {},
   "source": [
    "## Update/Delete User Info\n",
    "> In this section we will be explaining how data for the user would be updated and deleted in the Java Springboot backend.\n",
    "\n",
    "First, make sure you have this repository cloned so that you can see the code working in real time: `git clone https://github.com/CSA-AI/CSA_AI_lessonBackend.git`\n",
    "\n",
    "If your frontend local server address is different from `http://localhost:4000` or `http://127.0.0.1:4000`, make sure to change it accordingly in the `SecurityConfig.java` and `MvcConfig.java` files and HTML files provided in the lesson."
   ]
  },
  {
   "cell_type": "markdown",
   "metadata": {},
   "source": [
    "### Update Through API Requests\n",
    "> This is how the user would update data specific to their profile using a PUT request which communicates to the Springboot server.\n",
    "\n",
    "- `@PutMapping` - maps to which site extension the update will be performed\n",
    "- `ResponseEntity` - this is the method signature and specifies the required parameters (email, password, name)\n",
    "- `findbyEmail` - here we find the person using the JPA repository by accessing the person object that matches the email requested, creating a copy of this object\n",
    "- `setPassword`, `setName` - this is a JPA set function which allows us to set the new data that is updated\n",
    "- `save()` - this saves the newly created person object, overwriting the existing person object with a matching email\n",
    "\n",
    "This is essentially copy and paste, copying the pre-existing user data and pasting the new data in it's place."
   ]
  },
  {
   "cell_type": "code",
   "execution_count": null,
   "metadata": {},
   "outputs": [],
   "source": [
    "// mapping request\n",
    "@PutMapping(\"/update\")\n",
    "    // method signature\n",
    "    public ResponseEntity<Object> putPerson(@RequestParam(\"email\") String email, @RequestParam(\"password\") String password, @RequestParam(\"name\") String name ) \n",
    "    {\n",
    "        // copying person object\n",
    "        Person person = repository.findByEmail(email);\n",
    "        // saving new data to the copied person object\n",
    "        person.setPassword(password);\n",
    "        person.setName(name);\n",
    "        // saving the copied person object with new data over the pre-existing person object with a matching email\n",
    "        repository.save(person);\n",
    "        // returning response from server to frontend\n",
    "        return new ResponseEntity<>(email +\" is updated successfully\", HttpStatus.OK);\n",
    "    }"
   ]
  },
  {
   "cell_type": "markdown",
   "metadata": {},
   "source": [
    "In this example of HTML, we use fetch to PUT the data into the backend using parameters.\n",
    "\n",
    "- `URLSearchParams();` - this is how we add parameters into the request towards the backend, allowing for the user to edit a pre-existing person in the backend database"
   ]
  },
  {
   "cell_type": "code",
   "execution_count": null,
   "metadata": {
    "vscode": {
     "languageId": "python"
    }
   },
   "outputs": [],
   "source": [
    "%%html\n",
    "<body>\n",
    "    <h2>Password Update</h2>\n",
    "    <label for=\"email\">Email:</label>\n",
    "    <input type=\"email\" id=\"email\" name=\"email\" value=\"toby@gmail.com\" readonly><br>\n",
    "    <label for=\"password\">New Password:</label>\n",
    "    <input type=\"password\" id=\"password\" name=\"password\" value=\"test@123\"><br>\n",
    "    <label for=\"name\">New Name:</label>\n",
    "    <input type=\"text\" id=\"name\" name=\"name\" value=\"Test Test\"><br>\n",
    "    <button onclick=\"updatePassword()\">Update</button>\n",
    "    <p id=\"updateMessage\"></p>\n",
    "    <script>\n",
    "        function updatePassword() {\n",
    "            const url = 'http://localhost:8085/api/person/update'; // sending to the backend API (change this address if your backend is different)\n",
    "            const email = document.getElementById(\"email\").value;\n",
    "            const newPassword = document.getElementById(\"password\").value;\n",
    "            const newName = document.getElementById(\"name\").value;\n",
    "            const params = new URLSearchParams(); // creating the parameters sent to the backend\n",
    "            params.append('email', email);\n",
    "            params.append('password', newPassword);\n",
    "            params.append('name', newName);\n",
    "            fetch(url, {\n",
    "                method: 'PUT', // the PUT method\n",
    "                body: params,\n",
    "            })\n",
    "                .then(response => response.json()) // receiving the response from the backend server\n",
    "                .then(data => {\n",
    "                    // success\n",
    "                    const updateMessage = \"Updating email to: \" + data.email;\n",
    "                    document.getElementById(\"updateMessage\").innerHTML = updateMessage;\n",
    "                })\n",
    "                // error checking\n",
    "                .catch(error => console.error('Error:', error));\n",
    "        }\n",
    "    </script>\n",
    "</body>"
   ]
  },
  {
   "cell_type": "markdown",
   "metadata": {},
   "source": [
    "<body>\n",
    "    <h2>Password Update</h2>\n",
    "    <label for=\"email\">Email:</label>\n",
    "    <input type=\"email\" id=\"email\" name=\"email\" value=\"toby@gmail.com\" readonly><br>\n",
    "    <label for=\"password\">New Password:</label>\n",
    "    <input type=\"password\" id=\"password\" name=\"password\" value=\"test@123\"><br>\n",
    "    <label for=\"name\">New Name:</label>\n",
    "    <input type=\"text\" id=\"name\" name=\"name\" value=\"Test Test\"><br>\n",
    "    <button onclick=\"updatePassword()\">Update</button>\n",
    "    <p id=\"updateMessage\"></p>\n",
    "    <script>\n",
    "        function updatePassword() {\n",
    "            const url = 'http://localhost:8085/api/person/update'; // sending to the backend API (change this address if your backend is different)\n",
    "            const email = document.getElementById(\"email\").value;\n",
    "            const newPassword = document.getElementById(\"password\").value;\n",
    "            const newName = document.getElementById(\"name\").value;\n",
    "            const params = new URLSearchParams(); // creating the parameters sent to the backend\n",
    "            params.append('email', email);\n",
    "            params.append('password', newPassword);\n",
    "            params.append('name', newName);\n",
    "            fetch(url, {\n",
    "                method: 'PUT', // the PUT method\n",
    "                body: params,\n",
    "            })\n",
    "                .then(response => response.json()) // receiving the response from the backend server\n",
    "                .then(data => {\n",
    "                    // success\n",
    "                    const updateMessage = \"Updating email to: \" + data.email;\n",
    "                    document.getElementById(\"updateMessage\").innerHTML = updateMessage;\n",
    "                })\n",
    "                // error checking\n",
    "                .catch(error => console.error('Error:', error));\n",
    "        }\n",
    "    </script>\n",
    "</body>"
   ]
  },
  {
   "cell_type": "markdown",
   "metadata": {},
   "source": [
    "### Delete Through API Requests\n",
    "> This is how a user with admin permission would be able to request to delete specific users in the database.\n",
    "\n",
    "- `@DeleteMapping` - this maps the site extension through which deleting will be performed\n",
    "- `ResponseEntity<>` - the method signature requesting for the email, which is later used\n",
    "- `findByEmail()` - finds the user object with a matching email to the one requested using the JPA repo\n",
    "- `if (person != null)` - this just checks if the user exists\n",
    "- `deleteByEmail(email)` - this is another JPA function that is used to delete the person object that has the same email as the one requested\n",
    "- `ResponseEntity<>(HttpStatus.NOT_FOUND)` - returns a specific error that states that the user is not found\n",
    "\n",
    "Overall, this find the user by the email and deletes them from the database if they exist."
   ]
  },
  {
   "cell_type": "code",
   "execution_count": null,
   "metadata": {},
   "outputs": [],
   "source": [
    "@Transactional // method is a database operation\n",
    "@DeleteMapping(\"/delete\") // mapping request\n",
    "// method signature\n",
    "public ResponseEntity<Person> deletePerson(@RequestParam(\"email\") String email) {\n",
    "    // finding person object by email\n",
    "    Person person = repository.findByEmail(email);\n",
    "    // checks if person object requested exists\n",
    "    if (person != null) {\n",
    "        repository.deleteByEmail(email);\n",
    "        // returns success\n",
    "        return new ResponseEntity<>(person, HttpStatus.OK);\n",
    "    }\n",
    "    // returns error\n",
    "    return new ResponseEntity<>(HttpStatus.NOT_FOUND);\n",
    "}"
   ]
  },
  {
   "cell_type": "markdown",
   "metadata": {},
   "source": [
    "This is similar to the update HTML, except now we are using a DELETE request to the backend, again using parameters which are sent."
   ]
  },
  {
   "cell_type": "code",
   "execution_count": null,
   "metadata": {
    "vscode": {
     "languageId": "python"
    }
   },
   "outputs": [],
   "source": [
    "%%html\n",
    "<body>\n",
    "    <h2>User Delete</h2>\n",
    "    <label for=\"deleteEmail\">Email:</label>\n",
    "    <input type=\"email\" id=\"deleteEmail\" name=\"deleteEmail\"><br>\n",
    "    <button onclick=\"deleteUser()\">Delete</button>\n",
    "    <p id=\"updateMessage2\"></p>\n",
    "    <script>\n",
    "        function deleteUser() {\n",
    "            const url = 'http://localhost:8085/api/person/delete';\n",
    "            const email = document.getElementById(\"deleteEmail\").value;\n",
    "            const params = new URLSearchParams(); // creating the parameters sent to the backend\n",
    "            params.append('email', email);\n",
    "            fetch(url, {\n",
    "                method: 'DELETE',\n",
    "                body: params,\n",
    "            })\n",
    "                .then(response => response.json())\n",
    "                .then(data => {\n",
    "                    const deleteMessage = \"User deleted. Email: \" + data.email;\n",
    "                    document.getElementById(\"updateMessage2\").innerHTML = deleteMessage;\n",
    "                })\n",
    "                .catch(error => console.error('Error:', error));\n",
    "        }\n",
    "    </script>\n",
    "</body>\n"
   ]
  },
  {
   "cell_type": "markdown",
   "metadata": {},
   "source": [
    "<body>\n",
    "    <h2>User Delete</h2>\n",
    "    <label for=\"deleteEmail\">Email:</label>\n",
    "    <input type=\"email\" id=\"deleteEmail\" name=\"deleteEmail\"><br>\n",
    "    <button onclick=\"deleteUser()\">Delete</button>\n",
    "    <p id=\"updateMessage2\"></p>\n",
    "    <script>\n",
    "        function deleteUser() {\n",
    "            const url = 'http://localhost:8085/api/person/delete';\n",
    "            const email = document.getElementById(\"deleteEmail\").value;\n",
    "            const params = new URLSearchParams(); // creating the parameters sent to the backend\n",
    "            params.append('email', email);\n",
    "            fetch(url, {\n",
    "                method: 'DELETE',\n",
    "                body: params,\n",
    "            })\n",
    "                .then(response => response.json())\n",
    "                .then(data => {\n",
    "                    const deleteMessage = \"User deleted. Email: \" + data.email;\n",
    "                    document.getElementById(\"updateMessage2\").innerHTML = deleteMessage;\n",
    "                })\n",
    "                .catch(error => console.error('Error:', error));\n",
    "        }\n",
    "    </script>\n",
    "</body>"
   ]
  },
  {
   "cell_type": "markdown",
   "metadata": {},
   "source": [
    "If you would like to change which users are able to update or delete other users data or make the updating or deleting of data user-specific you can change the `SecurityConfig.java` file as shown below."
   ]
  },
  {
   "cell_type": "code",
   "execution_count": null,
   "metadata": {},
   "outputs": [],
   "source": [
    ".authorizeHttpRequests(auth -> auth\n",
    "    .requestMatchers(\"/authenticate\", \"/mvc/person/post/**\").permitAll()\n",
    "    .requestMatchers(\"/mvc/person/update/**\", \"/mvc/person/delete/**\").hasAnyAuthority(\"ROLE_ADMIN\") // this would be used for editing locally within the server's frontend\n",
    "    .requestMatchers(\"/api/person/post/**\", \"/api/person/delete/**\").hasAnyAuthority(\"ROLE_ADMIN\") // allowing only admin to essentially access these pages from requests\n",
    "    .requestMatchers(\"/**\").permitAll()\n",
    ")"
   ]
  }
 ],
 "metadata": {
  "kernelspec": {
   "display_name": "java",
   "language": "java",
   "name": "java"
  },
  "language_info": {
   "name": "java"
  }
 },
 "nbformat": 4,
 "nbformat_minor": 2
}
